{
 "cells": [
  {
   "cell_type": "code",
   "execution_count": 164,
   "metadata": {
    "collapsed": true
   },
   "outputs": [],
   "source": [
    "import numpy as np\n",
    "import pandas as pd"
   ]
  },
  {
   "cell_type": "code",
   "execution_count": 184,
   "outputs": [],
   "source": [
    "def read_data():\n",
    "    rating = pd.read_csv('ContentBasedRecommenderSystem/ratings.csv')\n",
    "    rating = rating[rating['userId']<201]\n",
    "    movies = pd.read_csv('ContentBasedRecommenderSystem/movies.csv')\n",
    "    movies = movies[movies['movieId']<201]\n",
    "    data = pd.merge(rating, movies, on='movieId')\n",
    "    data = data.drop(columns=['timestamp','genres'])\n",
    "    return data, movies\n"
   ],
   "metadata": {
    "collapsed": false,
    "pycharm": {
     "name": "#%%\n"
    }
   }
  },
  {
   "cell_type": "code",
   "execution_count": 185,
   "outputs": [],
   "source": [
    "def get_Matrix(data):\n",
    "    moviemat = data.pivot_table(index ='userId',\n",
    "                  columns ='movieId', values ='rating')\n",
    "    moviemat = moviemat.replace(np.NaN,0)\n",
    "    return moviemat, moviemat.columns, moviemat.index"
   ],
   "metadata": {
    "collapsed": false,
    "pycharm": {
     "name": "#%%\n"
    }
   }
  },
  {
   "cell_type": "code",
   "execution_count": 186,
   "outputs": [],
   "source": [
    "def cosine_similarity_mat(mat):\n",
    "    numerator =  mat.T @ mat\n",
    "    norm = (mat * mat).sum(0, keepdims=True) ** .5\n",
    "    similarity = numerator / norm / norm.T\n",
    "    return similarity"
   ],
   "metadata": {
    "collapsed": false,
    "pycharm": {
     "name": "#%%\n"
    }
   }
  },
  {
   "cell_type": "code",
   "execution_count": 187,
   "outputs": [],
   "source": [
    "def get_highest_similarity(array, n):\n",
    "    return array.argsort()[-n:][::-1]"
   ],
   "metadata": {
    "collapsed": false,
    "pycharm": {
     "name": "#%%\n"
    }
   }
  },
  {
   "cell_type": "code",
   "execution_count": 220,
   "outputs": [],
   "source": [
    "def get_highest_similar_to(movies_id_list,n):\n",
    "    data, movies = read_data()\n",
    "    highest_similar_movies = [0]*len(movies_id_list)\n",
    "    moviemat , movies_id, users_id  = get_Matrix(data)\n",
    "    cosine_mat = cosine_similarity_mat(np.array(moviemat))\n",
    "    for_printing = \"\"\n",
    "    for count , element in enumerate(movies_id_list):\n",
    "        indx = np.where(moviemat.columns== element)[0]\n",
    "        if indx.size>0:\n",
    "            highest_similar_movies[count] =movies_id[ get_highest_similarity(cosine_mat[indx[0]], n +1)]\n",
    "            for_printing += f\"{movies['title'][movies['movieId'] == element].values[0]} is similar to: \\n\"\n",
    "            for counter, movie in enumerate(highest_similar_movies[count][1:]):\n",
    "                for_printing += f\"       {counter +1}-   {movies['title'][movies['movieId'] == movie].values[0]}\\n\"\n",
    "\n",
    "    return highest_similar_movies,for_printing"
   ],
   "metadata": {
    "collapsed": false,
    "pycharm": {
     "name": "#%%\n"
    }
   }
  },
  {
   "cell_type": "code",
   "execution_count": 221,
   "outputs": [
    {
     "name": "stdout",
     "output_type": "stream",
     "text": [
      "Toy Story (1995) is similar to: \n",
      "       1-   Braveheart (1995)\n",
      "       2-   Apollo 13 (1995)\n",
      "       3-   Usual Suspects, The (1995)\n",
      "       4-   Happy Gilmore (1996)\n",
      "       5-   Die Hard: With a Vengeance (1995)\n",
      "       6-   Seven (a.k.a. Se7en) (1995)\n",
      "       7-   Babe (1995)\n",
      "       8-   Batman Forever (1995)\n",
      "       9-   Taxi Driver (1976)\n",
      "       10-   Twelve Monkeys (a.k.a. 12 Monkeys) (1995)\n",
      "Waiting to Exhale (1995) is similar to: \n",
      "       1-   Before and After (1996)\n",
      "       2-   Mighty Morphin Power Rangers: The Movie (1995)\n",
      "       3-   Mad Love (1995)\n",
      "       4-   Georgia (1995)\n",
      "       5-   Now and Then (1995)\n",
      "       6-   Reckless (1995)\n",
      "       7-   How to Make an American Quilt (1995)\n",
      "       8-   Something to Talk About (1995)\n",
      "       9-   Big Green, The (1995)\n",
      "       10-   Restoration (1995)\n",
      "\n"
     ]
    }
   ],
   "source": [
    "highest,to_print =get_highest_similar_to([1,4], 10)\n",
    "print(to_print)\n"
   ],
   "metadata": {
    "collapsed": false,
    "pycharm": {
     "name": "#%%\n"
    }
   }
  },
  {
   "cell_type": "code",
   "execution_count": 250,
   "outputs": [
    {
     "name": "stdout",
     "output_type": "stream",
     "text": [
      "Clueless (1995) is similar to: \n",
      "       1-   American President, The (1995)\n",
      "       2-   Net, The (1995)\n",
      "       3-   Get Shorty (1995)\n",
      "\n"
     ]
    }
   ],
   "source": [
    "data, movies = read_data()\n",
    "movies_id = data['movieId'][data['userId']==200].iloc[data['rating'][data['userId']==200].values.argmax()]\n",
    "highest,to_print =get_highest_similar_to([movies_id], 3)\n",
    "print(to_print)"
   ],
   "metadata": {
    "collapsed": false,
    "pycharm": {
     "name": "#%%\n"
    }
   }
  },
  {
   "cell_type": "code",
   "execution_count": null,
   "outputs": [],
   "source": [],
   "metadata": {
    "collapsed": false,
    "pycharm": {
     "name": "#%%\n"
    }
   }
  }
 ],
 "metadata": {
  "kernelspec": {
   "display_name": "Python 3",
   "language": "python",
   "name": "python3"
  },
  "language_info": {
   "codemirror_mode": {
    "name": "ipython",
    "version": 2
   },
   "file_extension": ".py",
   "mimetype": "text/x-python",
   "name": "python",
   "nbconvert_exporter": "python",
   "pygments_lexer": "ipython2",
   "version": "2.7.6"
  }
 },
 "nbformat": 4,
 "nbformat_minor": 0
}